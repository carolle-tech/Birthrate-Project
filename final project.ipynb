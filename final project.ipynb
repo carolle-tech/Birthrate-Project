{
 "cells": [
  {
   "cell_type": "code",
   "execution_count": 1,
   "id": "2402fcb4-9125-49b8-af51-9145a22acc56",
   "metadata": {},
   "outputs": [],
   "source": [
    "from pandas import Series, DataFrame\n",
    "import numpy as np\n",
    "import pandas as pd\n",
    "from patsy import dmatrices\n",
    "import matplotlib.pyplot as plt\n",
    "import seaborn as sns\n",
    "from sklearn.model_selection import train_test_split\n",
    "from sklearn.linear_model import LogisticRegression\n",
    "from sklearn.ensemble import RandomForestClassifier\n",
    "from sklearn import metrics\n",
    "from xgboost import XGBClassifier\n",
    "from sklearn.metrics import accuracy_score, confusion_matrix"
   ]
  },
  {
   "cell_type": "markdown",
   "id": "db1e4864-0a6a-4e95-bfd3-f83683dab2e7",
   "metadata": {},
   "source": [
    "# Reading in Data"
   ]
  },
  {
   "cell_type": "code",
   "execution_count": 35,
   "id": "a6810ee9-af0f-482d-bb15-78641846dbde",
   "metadata": {},
   "outputs": [],
   "source": [
    "df = pd.read_csv('birthrate_new.csv')"
   ]
  },
  {
   "cell_type": "code",
   "execution_count": null,
   "id": "c9c926b9-1dbd-45b2-a000-fd5f9f8e9634",
   "metadata": {
    "scrolled": true
   },
   "outputs": [],
   "source": [
    "#df.columns"
   ]
  },
  {
   "cell_type": "code",
   "execution_count": null,
   "id": "45e26d1c-1416-404b-96cb-060141a2648e",
   "metadata": {},
   "outputs": [],
   "source": [
    "#df['NUMBER_OF_CHILDREN'].unique()"
   ]
  },
  {
   "cell_type": "code",
   "execution_count": 18,
   "id": "5f3f2761-e392-4af5-ad81-a99fdfa9650e",
   "metadata": {},
   "outputs": [
    {
     "data": {
      "text/plain": [
       "(763296, 20)"
      ]
     },
     "execution_count": 18,
     "metadata": {},
     "output_type": "execute_result"
    }
   ],
   "source": [
    "df.shape"
   ]
  },
  {
   "cell_type": "markdown",
   "id": "15a018a5-dd21-4bc2-af90-5e30c06d93a8",
   "metadata": {},
   "source": [
    "# Feature Engineering (X)"
   ]
  },
  {
   "cell_type": "code",
   "execution_count": 36,
   "id": "2a921089-b75a-42a0-8edd-d48447fd90c0",
   "metadata": {},
   "outputs": [],
   "source": [
    "# 1 = have married before, 0 = have never married\n",
    "df['ever_married'] = (df['MARITAL_STATUS'] != 'Never married or under 15 years old').astype(int)\n",
    "\n",
    "# convert the number of times married into numbers\n",
    "marriage_map = {'N/A (age less than 15 years; never married)': 0,\n",
    "                'One time': 1,\n",
    "                'Two times': 2,\n",
    "                'Three or more times': 3}\n",
    "df['num_times_married'] = df['NUM_TIMES_MARRIED'].map(marriage_map)\n",
    "\n",
    "# calculate years since marriage\n",
    "df['years_since_marriage'] = 2023 - pd.to_numeric(df['YEAR_LAST_MARRIED'], errors='coerce')\n",
    "df['years_since_marriage'] = df['years_since_marriage'].fillna(0)\n",
    "\n",
    "# 1 = moved somewhere last year, 0 = didn't move anywhere\n",
    "df['moved_last_year'] = df['MOBILITY_STATUS'].apply(lambda x: 0 if x=='Yes, same house (nonmovers)' else 1)\n",
    "\n",
    "# calculate number of years of education\n",
    "education_map = {\n",
    "    'No schooling completed': 0, 'Nursery school, preschool': 0, 'Kindergarten': 0,\n",
    "    'Grade 1': 1, 'Grade 2': 2, 'Grade 3': 3, 'Grade 4': 4, 'Grade 5': 5, 'Grade 6': 6, 'Grade 7': 7, 'Grade 8': 8, 'Grade 9': 9, 'Grade 10': 10,\n",
    "    'Grade 11': 11, '12th grade - no diploma': 12, 'Regular high school diploma': 12, 'GED or alternative credential': 12,\n",
    "    'Some college, but less than 1 year': 13, '1 or more years of college credit, no degree': 14,\n",
    "    \"Associate's degree\": 15, \"Bachelor's degree\": 16, \"Master's degree\": 18, \"Professional degree beyond a bachelor's degree\": 19, \"Doctorate degree\": 20 }\n",
    "df['education_years'] = df['EDUCATION'].map(education_map)\n",
    "\n",
    "# 1 = has medical insurance, 0 = no medical insurance\n",
    "df['has_insurance'] = (df['HEALTH_INSURANCE'] == 'With health insurance coverage').astype(int)\n",
    "\n",
    "# 1 = employed of some forms, 0 = not employed\n",
    "employed_group = ['Civilian employed, at work', 'Civilian employed, with a job but not at work', 'Armed forces, at work', 'Armed forces, with a job but not at work' ]\n",
    "df['employed'] = df['EMPLOYMENT_STATUS'].apply(lambda x: 1 if x in employed_group else 0)\n",
    "\n",
    "# 1 = give birth for the past year, 0 = no birth past year\n",
    "df['gave_birth_12mo'] = df['GAVE_BIRTH_12MO'].map(lambda x: 1 if x == 'Yes' else 0)\n",
    "\n",
    "# convert Region into dummy variables\n",
    "df = pd.get_dummies(df, columns=['REGION'], drop_first=False)"
   ]
  },
  {
   "cell_type": "markdown",
   "id": "06ea7020-f41f-4ea2-9c62-4703c46db0d6",
   "metadata": {},
   "source": [
    "# Create Target Variable (y = above_2child)"
   ]
  },
  {
   "cell_type": "code",
   "execution_count": 37,
   "id": "821e2e6f-b4f4-41b1-8d07-4c1e10ca260b",
   "metadata": {},
   "outputs": [],
   "source": [
    "df['above_2child'] = df['NUMBER_OF_CHILDREN'].map(\n",
    "    lambda x: 0 if x in ['0 children present', '1 child present'] else 1)"
   ]
  },
  {
   "cell_type": "code",
   "execution_count": 15,
   "id": "8052462b-8b29-41fd-b9d5-334b8b5e7064",
   "metadata": {},
   "outputs": [
    {
     "data": {
      "text/plain": [
       "above_2child\n",
       "0    0.705435\n",
       "1    0.294565\n",
       "Name: proportion, dtype: float64"
      ]
     },
     "execution_count": 15,
     "metadata": {},
     "output_type": "execute_result"
    }
   ],
   "source": [
    "df['above_2child'].value_counts(normalize=True)   #30% of the data have over 2 children"
   ]
  },
  {
   "cell_type": "code",
   "execution_count": 38,
   "id": "e09bb821-0bd3-405e-804b-6065d992d238",
   "metadata": {},
   "outputs": [
    {
     "data": {
      "text/plain": [
       "Index(['YEAR', 'HOUSEHOLD_INCOME', 'CHILDREN_STATUS', 'NUMBER_OF_CHILDREN',\n",
       "       'PERSON_WEIGHT', 'AGE', 'CLASS_OF_WORKER', 'GAVE_BIRTH_12MO',\n",
       "       'MARITAL_STATUS', 'NUM_TIMES_MARRIED', 'YEAR_LAST_MARRIED',\n",
       "       'MOBILITY_STATUS', 'GRADE_LEVEL_ATTENDING', 'EDUCATION', 'SEX',\n",
       "       'WHEN_LAST_WORKED', 'EMPLOYMENT_STATUS', 'HEALTH_INSURANCE',\n",
       "       'INCOME_TOTAL', 'ever_married', 'num_times_married',\n",
       "       'years_since_marriage', 'moved_last_year', 'education_years',\n",
       "       'has_insurance', 'employed', 'gave_birth_12mo', 'REGION_Midwest',\n",
       "       'REGION_Northeast', 'REGION_South', 'REGION_West', 'above_2child'],\n",
       "      dtype='object')"
      ]
     },
     "execution_count": 38,
     "metadata": {},
     "output_type": "execute_result"
    }
   ],
   "source": [
    "df.columns"
   ]
  },
  {
   "cell_type": "markdown",
   "id": "6298c547-4dcb-49eb-bc15-8fb736b232cc",
   "metadata": {},
   "source": [
    "# Logistic Regression"
   ]
  },
  {
   "cell_type": "code",
   "execution_count": 27,
   "id": "09522477-c9a7-4342-8622-72026b2886b6",
   "metadata": {},
   "outputs": [],
   "source": [
    "formula = 'above_2child ~ 0 + PERSON_WEIGHT + AGE + ever_married + num_times_married + years_since_marriage' + \\\n",
    "          ' + moved_last_year + education_years + has_insurance + employed + HOUSEHOLD_INCOME + gave_birth_12mo'"
   ]
  },
  {
   "cell_type": "code",
   "execution_count": null,
   "id": "89b71c82-2731-4011-b1f5-f442548ef08e",
   "metadata": {},
   "outputs": [],
   "source": [
    "#formula = (\n",
    "    #'above_2child ~ 0 + PERSON_WEIGHT + AGE + ever_married + num_times_married + years_since_marriage'\n",
    "    #' + moved_last_year + education_years + has_insurance + employed + HOUSEHOLD_INCOME + gave_birth_12mo'\n",
    "    #' + REGION_Northeast + REGION_South + REGION_West + REGION_Midwest')\n",
    "#if use this formula has to run this in model step: X.columns = X.columns.str.replace(r\"[\\[\\]<>\\:]\", \"_\", regex=True)"
   ]
  },
  {
   "cell_type": "code",
   "execution_count": 16,
   "id": "7ec4fd91-0962-47af-8518-bf97bd5ba335",
   "metadata": {},
   "outputs": [
    {
     "name": "stdout",
     "output_type": "stream",
     "text": [
      "Train Accuracy: 0.7088078576548689\n",
      "Test Accuracy: 0.7091650690644529\n"
     ]
    }
   ],
   "source": [
    "Y, X = dmatrices(formula, df, return_type='dataframe')\n",
    "y = Y['above_2child'].values\n",
    "X_train, X_test, y_train, y_test = train_test_split(X, y, test_size=0.3, random_state=1)\n",
    "\n",
    "model = LogisticRegression(max_iter=10000)\n",
    "result = model.fit(X_train, y_train)\n",
    "\n",
    "prediction_train = model.predict(X_train)\n",
    "print(\"Train Accuracy:\", metrics.accuracy_score(y_train, prediction_train))\n",
    "\n",
    "prediction = model.predict(X_test)\n",
    "print(\"Test Accuracy:\", metrics.accuracy_score(y_test, prediction))"
   ]
  },
  {
   "cell_type": "code",
   "execution_count": null,
   "id": "bd5635d9-6d70-4ec6-a0e8-03959849b8e2",
   "metadata": {},
   "outputs": [],
   "source": [
    "weights = Series(model.coef_[0],\n",
    "                 index=X.columns.values)\n",
    "weights.sort_values(ascending=False)"
   ]
  },
  {
   "cell_type": "markdown",
   "id": "186b1d98-c3c6-4bed-b746-6e58b2963ee4",
   "metadata": {},
   "source": [
    "# XGBoost Classifier --> better test accuracy"
   ]
  },
  {
   "cell_type": "code",
   "execution_count": 32,
   "id": "3ed1f1cb-a6ca-409e-baed-1892a7eb66d8",
   "metadata": {},
   "outputs": [
    {
     "name": "stdout",
     "output_type": "stream",
     "text": [
      "Train Accuracy: 0.7830030300931862\n",
      "Test Accuracy: 0.7816052299455433\n",
      "                 Feature  Importance\n",
      "4   years_since_marriage    0.431374\n",
      "1                    AGE    0.181359\n",
      "10       gave_birth_12mo    0.092096\n",
      "6        education_years    0.063897\n",
      "2           ever_married    0.056669\n",
      "8               employed    0.050655\n",
      "5        moved_last_year    0.048431\n",
      "3      num_times_married    0.035131\n",
      "9       HOUSEHOLD_INCOME    0.030229\n",
      "0          PERSON_WEIGHT    0.007025\n",
      "7          has_insurance    0.003133\n"
     ]
    }
   ],
   "source": [
    "Y, X = dmatrices(formula, df, return_type='dataframe')\n",
    "y = Y['above_2child'].values\n",
    "X_train, X_test, y_train, y_test = train_test_split(X, y, test_size=0.3, random_state=1)\n",
    "\n",
    "xgb_model = XGBClassifier(n_estimators=200,\n",
    "                          learning_rate=0.05,\n",
    "                          max_depth=4)\n",
    "xgb_model.fit(X_train, y_train)\n",
    "\n",
    "train_preds = xgb_model.predict(X_train)\n",
    "test_preds = xgb_model.predict(X_test)\n",
    "print(\"Train Accuracy:\", accuracy_score(y_train, train_preds))\n",
    "print(\"Test Accuracy:\", accuracy_score(y_test, test_preds))\n",
    "\n",
    "#feature importance\n",
    "importances = xgb_model.feature_importances_\n",
    "importance_df = pd.DataFrame({'Feature': X.columns,\n",
    "                              'Importance': importances}).sort_values(by='Importance', ascending=False)\n",
    "print(importance_df)"
   ]
  },
  {
   "cell_type": "markdown",
   "id": "30b40076-8f71-4aa6-a062-affcf9b1ff85",
   "metadata": {},
   "source": [
    "# Model Evaluation (XGBoost)"
   ]
  },
  {
   "cell_type": "code",
   "execution_count": null,
   "id": "2509188c-2657-4c18-86ed-79a45cbebbee",
   "metadata": {},
   "outputs": [],
   "source": [
    "confusion_matrix(y_test, test_preds)"
   ]
  },
  {
   "cell_type": "code",
   "execution_count": null,
   "id": "e475c3ed-023c-4fe0-9c18-14aaaa89e8d8",
   "metadata": {},
   "outputs": [],
   "source": [
    "np.round(confusion_matrix(y_test, test_preds) / np.sum(confusion_matrix(y_test, test_preds)),2)"
   ]
  },
  {
   "cell_type": "markdown",
   "id": "01eb2c30-15cb-462c-b974-fd486a825c87",
   "metadata": {},
   "source": [
    "# Cross-Validation to find optimal n_estimators & max_depth"
   ]
  },
  {
   "cell_type": "markdown",
   "id": "c33b4c46-8147-4b5b-a135-0f5c4a5c0463",
   "metadata": {},
   "source": [
    "### n_estimators = 200, max_depth = 4"
   ]
  },
  {
   "cell_type": "code",
   "execution_count": 13,
   "id": "d1b71312-6c5b-4cf4-bb00-e9c2c2e31029",
   "metadata": {},
   "outputs": [
    {
     "data": {
      "image/png": "[encoded data removed]",
      "text/plain": [
       "<Figure size 640x480 with 1 Axes>"
      ]
     },
     "metadata": {},
     "output_type": "display_data"
    }
   ],
   "source": [
    "scores = {}\n",
    "for depth in range(1, 11):\n",
    "    model = XGBClassifier(n_estimators=200,\n",
    "                          max_depth=depth,\n",
    "                          random_state=1)\n",
    "    model.fit(X_train, y_train)\n",
    "    prediction_test = model.predict(X_test)\n",
    "    accuracy_test = metrics.accuracy_score(y_test, prediction_test)\n",
    "    scores[depth] = accuracy_test\n",
    "Series(scores).sort_index().plot()\n",
    "plt.xlabel('Depth of trees')\n",
    "plt.ylabel('Test accuracy')\n",
    "#plt.savefig('tree depth.png', dpi=300, bbox_inches='tight')  # save as PNG"
   ]
  },
  {
   "cell_type": "code",
   "execution_count": 14,
   "id": "0bf893aa-e0d1-4af2-9870-e05debfce19d",
   "metadata": {},
   "outputs": [
    {
     "data": {
      "image/png": "[encoded data removed]",
      "text/plain": [
       "<Figure size 640x480 with 1 Axes>"
      ]
     },
     "metadata": {},
     "output_type": "display_data"
    }
   ],
   "source": [
    "scores = {}\n",
    "for num_trees in [50, 100, 200, 300, 400]:\n",
    "    model = XGBClassifier(n_estimators=num_trees,\n",
    "                          max_depth=4,\n",
    "                          random_state=1)\n",
    "    model.fit(X_train, y_train)\n",
    "    prediction_test = model.predict(X_test)\n",
    "    accuracy_test = metrics.accuracy_score(y_test, prediction_test)\n",
    "    scores[num_trees] = accuracy_test\n",
    "Series(scores).sort_index().plot()\n",
    "plt.xlabel('Number of trees')\n",
    "plt.ylabel('Test accuracy')\n",
    "#plt.savefig('numtree.png', dpi=300, bbox_inches='tight')  # save as PNG"
   ]
  },
  {
   "cell_type": "code",
   "execution_count": null,
   "id": "bc7e89ee-b3d0-4931-a566-199a9a087e0b",
   "metadata": {},
   "outputs": [],
   "source": []
  },
  {
   "cell_type": "code",
   "execution_count": null,
   "id": "7366950f-709e-4e0f-857a-a60a366fb2d6",
   "metadata": {},
   "outputs": [],
   "source": []
  },
  {
   "cell_type": "code",
   "execution_count": null,
   "id": "33721d97-543e-4632-b6a7-4d968c208e4f",
   "metadata": {},
   "outputs": [],
   "source": []
  },
  {
   "cell_type": "code",
   "execution_count": null,
   "id": "8d5950f3-1087-4385-966d-83ceaf10518a",
   "metadata": {},
   "outputs": [],
   "source": []
  },
  {
   "cell_type": "markdown",
   "id": "7b55a525-95d8-4ac6-b8fa-65584fa1f5c1",
   "metadata": {},
   "source": [
    "# Visualizations"
   ]
  },
  {
   "cell_type": "code",
   "execution_count": null,
   "id": "e8b7287d-8f3a-4ce0-93ad-e5e8c7e38d12",
   "metadata": {},
   "outputs": [],
   "source": [
    "df1 = df.copy()\n",
    "edu_avg_actual = df1.groupby('education_years')['above_2child'].mean().reset_index()\n",
    "\n",
    "plt.figure(figsize=(6, 4))\n",
    "plt.plot(edu_avg_actual['education_years'], edu_avg_actual['above_2child'], color='red', linewidth=2)\n",
    "plt.xlabel('Years of Education')\n",
    "plt.ylabel('Probability of ≥ 2 Children')\n",
    "plt.title('Probability of ≥ 2 Children by Education')\n",
    "plt.grid(True)\n",
    "plt.legend()"
   ]
  },
  {
   "cell_type": "code",
   "execution_count": null,
   "id": "dc6b8234-256c-4acd-9d6b-579930a381eb",
   "metadata": {},
   "outputs": [],
   "source": [
    "df1 = df.copy()\n",
    "mapping = {\n",
    "    '0 children present': 0,\n",
    "    '1 child present': 1,\n",
    "    '2': 2,\n",
    "    '3': 3,\n",
    "    '4': 4,\n",
    "    '5': 5,\n",
    "    '6': 6,\n",
    "    '7': 7,\n",
    "    '8': 8,\n",
    "    '9+': 9}\n",
    "df1['nchild'] = df1['NUMBER_OF_CHILDREN'].map(mapping)\n",
    "\n",
    "age_avg_children = df1.groupby('education_years')['nchild'].mean().reset_index()\n",
    "\n",
    "plt.figure(figsize=(7,4))\n",
    "plt.plot(age_avg_children['education_years'], age_avg_children['nchild'], label='Avg Number of Children')\n",
    "plt.axhline(y=2.1, color='red', linestyle='--', linewidth=2, label='Replacement Threshold (2.1)')\n",
    "plt.xlabel('Years of Education')\n",
    "plt.ylabel('Average Number of Children')\n",
    "plt.title('Average Number of Children by Years of Education')\n",
    "plt.legend()"
   ]
  },
  {
   "cell_type": "code",
   "execution_count": null,
   "id": "3a371364-d3cb-4110-a94a-a3283490625e",
   "metadata": {},
   "outputs": [],
   "source": [
    "df1 = df.copy()\n",
    "mapping = {\n",
    "    '0 children present': 0,\n",
    "    '1 child present': 1,\n",
    "    '2': 2,\n",
    "    '3': 3,\n",
    "    '4': 4,\n",
    "    '5': 5,\n",
    "    '6': 6,\n",
    "    '7': 7,\n",
    "    '8': 8,\n",
    "    '9+': 9}\n",
    "df1['nchild'] = df1['NUMBER_OF_CHILDREN'].map(mapping)\n",
    "age_avg_children = df1.groupby('AGE')['nchild'].mean().reset_index()\n",
    "\n",
    "plt.figure(figsize=(7,4))\n",
    "plt.plot(age_avg_children['AGE'], age_avg_children['nchild'], label='Avg Number of Children')\n",
    "plt.axhline(y=2.1, color='red', linestyle='--', linewidth=2, label='Replacement Threshold (2.1)')\n",
    "plt.xlabel('Age')\n",
    "plt.ylabel('Average Number of Children')\n",
    "plt.title('Average Number of Children by Age')\n",
    "plt.legend()"
   ]
  },
  {
   "cell_type": "code",
   "execution_count": null,
   "id": "57731de0-9d37-4d59-aa58-4a6eb4d05ee6",
   "metadata": {},
   "outputs": [],
   "source": [
    "df1.columns"
   ]
  },
  {
   "cell_type": "code",
   "execution_count": null,
   "id": "7fff60bb-d4a1-4499-8c47-84fae9044d6a",
   "metadata": {},
   "outputs": [],
   "source": [
    "#Histogram of Number of Children by region (stacked)\n",
    "plt.figure(figsize=(7,4))\n",
    "sns.histplot(data=df1, x='nchild', bins=range(0,12), hue='REGION', multiple='stack')\n",
    "plt.title('Histogram of Number of Children by Region')\n",
    "plt.xlabel('Number of Children')\n",
    "plt.ylabel('Count')\n",
    "plt.show()"
   ]
  },
  {
   "cell_type": "code",
   "execution_count": null,
   "id": "c7724b39-3801-4ce6-80b7-71be37b77116",
   "metadata": {},
   "outputs": [],
   "source": [
    "#Average Number of Children by Education Years and Region (Line Plot)\n",
    "df = pd.read_csv('birthrate_new.csv')\n",
    "df1 = df.copy()\n",
    "education_map = {\n",
    "    'No schooling completed': 0, 'Nursery school, preschool': 0, 'Kindergarten': 0,\n",
    "    'Grade 1': 1, 'Grade 2': 2, 'Grade 3': 3, 'Grade 4': 4, 'Grade 5': 5, 'Grade 6': 6, 'Grade 7': 7, 'Grade 8': 8, 'Grade 9': 9, 'Grade 10': 10,\n",
    "    'Grade 11': 11, '12th grade - no diploma': 12, 'Regular high school diploma': 12, 'GED or alternative credential': 12,\n",
    "    'Some college, but less than 1 year': 13, '1 or more years of college credit, no degree': 14,\n",
    "    \"Associate's degree\": 15, \"Bachelor's degree\": 16, \"Master's degree\": 18, \"Professional degree beyond a bachelor's degree\": 19, \"Doctorate degree\": 20 }\n",
    "df1['education_years'] = df1['EDUCATION'].map(education_map)\n",
    "mapping = {\n",
    "    '0 children present': 0,\n",
    "    '1 child present': 1,\n",
    "    '2': 2,\n",
    "    '3': 3,\n",
    "    '4': 4,\n",
    "    '5': 5,\n",
    "    '6': 6,\n",
    "    '7': 7,\n",
    "    '8': 8,\n",
    "    '9+': 9}\n",
    "df1['nchild'] = df1['NUMBER_OF_CHILDREN'].map(mapping)\n",
    "\n",
    "avg_children = df1.groupby(['education_years', 'REGION'])['nchild'].mean().reset_index()\n",
    "plt.figure(figsize=(7,4))\n",
    "sns.lineplot(data=avg_children, x='education_years', y='nchild', hue='REGION', marker='o')\n",
    "plt.title('Average Number of Children by Education Years and Region')\n",
    "plt.xlabel('Years of Education')\n",
    "plt.ylabel('Average Number of Children')\n",
    "plt.legend(title='Region')\n",
    "plt.grid(True)\n",
    "plt.show()"
   ]
  },
  {
   "cell_type": "code",
   "execution_count": null,
   "id": "8ac49180-7e5c-472f-a1c2-451a5e15f1f1",
   "metadata": {},
   "outputs": [],
   "source": [
    "#average number of children per region\n",
    "avg_children_region = df1.groupby('REGION')['nchild'].mean().reset_index()\n",
    "plt.figure(figsize=(8,5))\n",
    "sns.barplot(data=avg_children_region, x='REGION', y='nchild', palette='pastel')\n",
    "plt.title('Average Number of Children by Region')\n",
    "plt.ylabel('Average Number of Children')\n",
    "plt.xlabel('Region')\n",
    "plt.show()\n"
   ]
  },
  {
   "cell_type": "code",
   "execution_count": null,
   "id": "c5954c96-a8e2-4426-9646-b5b2fe98f8d7",
   "metadata": {},
   "outputs": [],
   "source": [
    "#Total number of children per region\n",
    "total_children_region = df1.groupby('REGION')['nchild'].sum().reset_index()\n",
    "total_children_region = total_children_region.sort_values('nchild', ascending=False)\n",
    "\n",
    "plt.figure(figsize=(6,4))\n",
    "sns.barplot(data=total_children_region, x='nchild', y='REGION', palette='viridis')\n",
    "plt.title('Total Number of Children by Region')\n",
    "plt.xlabel('Total Number of Children')\n",
    "plt.ylabel('Region')\n",
    "plt.show()"
   ]
  },
  {
   "cell_type": "code",
   "execution_count": null,
   "id": "e8ff12db-420c-43e2-ac7e-810ee6122e2d",
   "metadata": {},
   "outputs": [],
   "source": []
  },
  {
   "cell_type": "markdown",
   "id": "738c16c9-0179-4955-bf9a-c077c9ebca70",
   "metadata": {},
   "source": [
    "# Coefficient Weights (LG)"
   ]
  },
  {
   "cell_type": "code",
   "execution_count": null,
   "id": "4f48e3e3-474b-41ad-a791-1f827816a17b",
   "metadata": {},
   "outputs": [],
   "source": [
    "import matplotlib.cm as cm\n",
    "\n",
    "coef_df = pd.DataFrame({\n",
    "    'Feature': X.columns,\n",
    "    'Coefficient': model.coef_[0]\n",
    "}).sort_values(by='Coefficient', key=abs)\n",
    "\n",
    "# Normalize absolute coefficient values\n",
    "norm = plt.Normalize(coef_df['Coefficient'].abs().min(),\n",
    "                     coef_df['Coefficient'].abs().max())\n",
    "\n",
    "# Colors for bars\n",
    "colors = cm.Blues(norm(coef_df['Coefficient'].abs()) * 0.7 + 0.3)  \n",
    "\n",
    "fig, ax = plt.subplots(figsize=(8, 6))\n",
    "bars = ax.barh(coef_df['Feature'], coef_df['Coefficient'], color=colors)\n",
    "ax.set_xlabel(\"Coefficient Value\")\n",
    "ax.set_title(\"Feature Influence on Having Above 2 Children\")\n",
    "\n",
    "# Colorbar legend (tied to ax)\n",
    "sm = plt.cm.ScalarMappable(cmap=cm.Blues, norm=norm)\n",
    "sm.set_array([])\n",
    "fig.colorbar(sm, ax=ax, label=\"Coefficient Magnitude\")\n",
    "\n",
    "plt.show()"
   ]
  },
  {
   "cell_type": "markdown",
   "id": "48e41286-1b63-467c-8f5c-d137dcb916cd",
   "metadata": {},
   "source": [
    "# Feature Importance Graph (XGBoost)"
   ]
  },
  {
   "cell_type": "code",
   "execution_count": 33,
   "id": "d1df07fe-98ae-4315-9a0e-7136c2abe56d",
   "metadata": {},
   "outputs": [
    {
     "data": {
      "image/png": "[encoded data removed]",
      "text/plain": [
       "<Figure size 800x600 with 2 Axes>"
      ]
     },
     "metadata": {},
     "output_type": "display_data"
    }
   ],
   "source": [
    "import matplotlib.cm as cm\n",
    "\n",
    "importances = xgb_model.feature_importances_\n",
    "feat_names = X.columns\n",
    "if 'Intercept' in feat_names:\n",
    "    mask = feat_names != 'Intercept'\n",
    "    importances = importances[mask]\n",
    "    feat_names = feat_names[mask]\n",
    "\n",
    "importance_df = (\n",
    "    pd.DataFrame({'Feature': feat_names, 'Importance': importances})\n",
    "      .sort_values('Importance', ascending=True)  # ascending for barh\n",
    ")\n",
    "\n",
    "# Color mapping\n",
    "vals = importance_df['Importance'].values\n",
    "norm = plt.Normalize(vals.min(), vals.max())\n",
    "colors = cm.Reds(norm(vals) * 0.7 + 0.3)  # avoid pale pinks\n",
    "\n",
    "# Plot\n",
    "fig, ax = plt.subplots(figsize=(8, 6))\n",
    "ax.barh(importance_df['Feature'], importance_df['Importance'], color=colors)\n",
    "ax.set_xlabel(\"Feature Importance\")\n",
    "ax.set_title(\"XGBoost Feature Importance\")\n",
    "\n",
    "# Colorbar legend (tied to ax)\n",
    "sm = plt.cm.ScalarMappable(cmap=cm.Reds, norm=norm)\n",
    "sm.set_array([])\n",
    "fig.colorbar(sm, ax=ax, label=\"Relative Importance\")\n",
    "\n",
    "plt.show()"
   ]
  }
 ],
 "metadata": {
  "kernelspec": {
   "display_name": "Python [conda env:base] *",
   "language": "python",
   "name": "conda-base-py"
  },
  "language_info": {
   "codemirror_mode": {
    "name": "ipython",
    "version": 3
   },
   "file_extension": ".py",
   "mimetype": "text/x-python",
   "name": "python",
   "nbconvert_exporter": "python",
   "pygments_lexer": "ipython3",
   "version": "3.13.5"
  }
 },
 "nbformat": 4,
 "nbformat_minor": 5
}
